{
 "cells": [
  {
   "attachments": {},
   "cell_type": "markdown",
   "metadata": {},
   "source": [
    "# Path Planning On a Grid :: A* Algorithm (with Cons/Incons Heuristic)"
   ]
  },
  {
   "attachments": {},
   "cell_type": "markdown",
   "metadata": {},
   "source": [
    "<center><img src=\"./img/1.png\"/></center>"
   ]
  },
  {
   "attachments": {},
   "cell_type": "markdown",
   "metadata": {},
   "source": [
    "In this lab, we will consider the problem of finding the shortest path on a graph with a special structure, widely used in robotics and computer games — a grid. The grid consists of both free and blocked cells, and an agent can move from one free cell to another. The connectivity of the grid may vary; for example, a grid might be 4-connected when only cardinal moves (N, E, W, S) are allowed, or 8-connected when diagonal moves are allowed as well.\n",
    "\n",
    "**In this lab, we assume that the grid is 4-connected**, meaning that only moves into the cardinal directions (N, E, W, S) are allowed. The cost of each move between two neighboring cells, represented as $v$ and $v'$, is uniform, with $cost(v, v') = 1$.\n",
    "\n",
    "We will explore the seminal `A*` algorithm for finding the shortest path on a grid.\n",
    "\n",
    "Our exploration will involve two heuristic functions: Manhattan (which is admissible and consistent) and \"noisy Manhattan\" (which is admissible but inconsistent). We'll code two versions of `A*`: one with node re-opening and one without. Notably, the version without node re-opening may not solve the problem accurately when using the inconsistent heuristic.\n",
    "\n",
    "Our `A*` implementation will draw heavily from the `Dijkstra` algorithm, which we covered in a previous lab.\n",
    "\n",
    "Your task is to complete the missing code fragments as per the provided prompts and execute every cell in this notebook. All tests should pass successfully.\n",
    "\n",
    "Let's get started!\n"
   ]
  },
  {
   "cell_type": "code",
   "execution_count": 323,
   "metadata": {
    "tags": []
   },
   "outputs": [],
   "source": [
    "from heapq import heappop, heappush\n",
    "from typing import Callable, Dict, Iterable, List, Optional, Tuple, Type, Union\n",
    "\n",
    "import matplotlib.pyplot as plt\n",
    "import numpy as np\n",
    "import numpy.typing as npt\n",
    "\n",
    "%matplotlib inline"
   ]
  },
  {
   "attachments": {},
   "cell_type": "markdown",
   "metadata": {},
   "source": [
    "## Grid Map Representation"
   ]
  },
  {
   "cell_type": "code",
   "execution_count": 324,
   "metadata": {},
   "outputs": [],
   "source": [
    "from utils.map import Map\n",
    "from utils.utils import convert_string_to_cells"
   ]
  },
  {
   "cell_type": "code",
   "execution_count": 325,
   "metadata": {},
   "outputs": [
    {
     "name": "stdout",
     "output_type": "stream",
     "text": [
      "Help on class Map in module utils.map:\n",
      "\n",
      "class Map(builtins.object)\n",
      " |  Map(cells: numpy.ndarray[tuple[typing.Any, ...], numpy.dtype[~_ScalarT]])\n",
      " |\n",
      " |  Represents a square grid environment for our moving agent.\n",
      " |\n",
      " |  Attributes\n",
      " |  ----------\n",
      " |  _width : int\n",
      " |      The number of columns in the grid.\n",
      " |\n",
      " |  _height : int\n",
      " |      The number of rows in the grid.\n",
      " |\n",
      " |  _cells : np.ndarray\n",
      " |      A binary matrix representing the grid where 0 represents a traversable cell,\n",
      " |      and 1 represents a blocked cell.\n",
      " |\n",
      " |  Methods defined here:\n",
      " |\n",
      " |  __init__(\n",
      " |      self,\n",
      " |      cells: numpy.ndarray[tuple[typing.Any, ...], numpy.dtype[~_ScalarT]]\n",
      " |  )\n",
      " |      Initializes the map using a 2D array of cells.\n",
      " |\n",
      " |      Parameters\n",
      " |      ----------\n",
      " |      cells : np.ndarray\n",
      " |          A binary matrix representing the grid. 0 indicates a traversable cell,\n",
      " |          and 1 indicates a blocked cell.\n",
      " |\n",
      " |  get_neighbors(self, i: int, j: int) -> List[Tuple[int, int]]\n",
      " |      Gets a list of neighboring cells as (i, j) tuples.\n",
      " |      Assumes that the grid is 4-connected, allowing moves only in cardinal directions.\n",
      " |\n",
      " |      Parameters\n",
      " |      ----------\n",
      " |      i : int\n",
      " |          Row number of the cell in the grid.\n",
      " |      j : int\n",
      " |          Column number of the cell in the grid.\n",
      " |\n",
      " |      Returns\n",
      " |      ----------\n",
      " |      neighbors : List[Tuple[int, int]]\n",
      " |          List of neighboring cells.\n",
      " |\n",
      " |  get_size(self) -> Tuple[int, int]\n",
      " |      Returns the size of the grid in cells.\n",
      " |\n",
      " |      Returns\n",
      " |      ----------\n",
      " |      (height, width) : Tuple[int, int]\n",
      " |          Number of rows and columns in the grid.\n",
      " |\n",
      " |  in_bounds(self, i: int, j: int) -> bool\n",
      " |      Checks if the cell (i, j) is within the grid boundaries.\n",
      " |\n",
      " |      Parameters\n",
      " |      ----------\n",
      " |      i : int\n",
      " |          Row number of the cell in the grid.\n",
      " |      j : int\n",
      " |          Column number of the cell in the grid.\n",
      " |\n",
      " |      Returns\n",
      " |      ----------\n",
      " |      bool\n",
      " |          True if the cell is inside the grid, False otherwise.\n",
      " |\n",
      " |  traversable(self, i: int, j: int) -> bool\n",
      " |      Checks if the cell (i, j) is not an obstacle.\n",
      " |\n",
      " |      Parameters\n",
      " |      ----------\n",
      " |      i : int\n",
      " |          Row number of the cell in the grid.\n",
      " |      j : int\n",
      " |          Column number of the cell in the grid.\n",
      " |\n",
      " |      Returns\n",
      " |      ----------\n",
      " |      bool\n",
      " |          True if the cell is traversable, False if it's blocked.\n",
      " |\n",
      " |  ----------------------------------------------------------------------\n",
      " |  Data descriptors defined here:\n",
      " |\n",
      " |  __dict__\n",
      " |      dictionary for instance variables\n",
      " |\n",
      " |  __weakref__\n",
      " |      list of weak references to the object\n",
      "\n"
     ]
    }
   ],
   "source": [
    "help(Map)"
   ]
  },
  {
   "cell_type": "code",
   "execution_count": 326,
   "metadata": {},
   "outputs": [],
   "source": [
    "from utils.utils import compute_cost"
   ]
  },
  {
   "attachments": {},
   "cell_type": "markdown",
   "metadata": {},
   "source": [
    "Computes the cost of a transition from cell `(i1, j1)` to cell `(i2, j2)`. In the case of a 4-connected grid, the cost is always equal to 1. Consequently, the cost of each path is an integer.\n",
    "\n",
    "However, please note that if the grid's connectivity exceeds 4, the cost of a transition may vary and may become fractional or even arbitrary (e.g., $\\sqrt{2}$ for diagonal moves).\n",
    "\n",
    "Recall that in this lab, we assume a 4-connected grid, meaning that only cardinal moves (up, down, left, right) are allowed, and as a result, all costs are integers.\n"
   ]
  },
  {
   "cell_type": "code",
   "execution_count": 327,
   "metadata": {},
   "outputs": [
    {
     "name": "stdout",
     "output_type": "stream",
     "text": [
      "Help on function compute_cost in module utils.utils:\n",
      "\n",
      "compute_cost(i1: int, j1: int, i2: int, j2: int) -> Union[int, float]\n",
      "    Computes the cost of simple moves between cells (i1, j1) and (i2, j2).\n",
      "\n",
      "    Parameters\n",
      "    ----------\n",
      "    i1 : int\n",
      "        Row number of the first cell in the grid.\n",
      "    j1 : int\n",
      "        Column number of the first cell in the grid.\n",
      "    i2 : int\n",
      "        Row number of the second cell in the grid.\n",
      "    j2 : int\n",
      "        Column number of the second cell in the grid.\n",
      "\n",
      "    Returns\n",
      "    ----------\n",
      "    int | float\n",
      "        Cost of the move between cells.\n",
      "\n",
      "    Raises\n",
      "    ----------\n",
      "    ValueError\n",
      "        If trying to compute the cost of a non-supported move (only cardinal moves are supported).\n",
      "\n"
     ]
    }
   ],
   "source": [
    "help(compute_cost)"
   ]
  },
  {
   "attachments": {},
   "cell_type": "markdown",
   "metadata": {},
   "source": [
    "## Search Node\n",
    "\n",
    "A Search node is a fundamental concept in heuristic search algorithms. It encapsulates data about the state of the problem (e.g., the position of a robot or agent on a grid) and the information needed to construct a search tree, including g-values, h-values, f-values, and a backpointer to its predecessor.\n"
   ]
  },
  {
   "cell_type": "code",
   "execution_count": 328,
   "metadata": {
    "tags": []
   },
   "outputs": [],
   "source": [
    "from utils.node import BaseNode\n",
    "\n",
    "class Node(BaseNode):\n",
    "    def __lt__(self, other):\n",
    "        \"\"\"\n",
    "        Compares the keys of two nodes, which is needed for sorting/extracting the best element from OPEN.\n",
    "        \"\"\"\n",
    "        return self.f < other.f"
   ]
  },
  {
   "cell_type": "markdown",
   "metadata": {},
   "source": [
    "BaseNode has an implementation of the `__hash__`, `__lt__` and `__eq__` methods, so you can use nodes as dict keys."
   ]
  },
  {
   "cell_type": "code",
   "execution_count": 329,
   "metadata": {},
   "outputs": [
    {
     "name": "stdout",
     "output_type": "stream",
     "text": [
      "Help on function __hash__ in module utils.node:\n",
      "\n",
      "__hash__(self)\n",
      "    Makes the Node object hashable, allowing it to be used in sets/dictionaries.\n",
      "\n"
     ]
    }
   ],
   "source": [
    "help(Node.__hash__)"
   ]
  },
  {
   "attachments": {},
   "cell_type": "markdown",
   "metadata": {},
   "source": [
    "## Visualization"
   ]
  },
  {
   "cell_type": "code",
   "execution_count": 330,
   "metadata": {
    "tags": []
   },
   "outputs": [],
   "source": [
    "from utils.utils import draw"
   ]
  },
  {
   "attachments": {},
   "cell_type": "markdown",
   "metadata": {},
   "source": [
    "Example of the visualization"
   ]
  },
  {
   "cell_type": "code",
   "execution_count": 331,
   "metadata": {
    "tags": []
   },
   "outputs": [
    {
     "data": {
      "image/png": "[encoded data removed]",
      "text/plain": [
       "<Figure size 960x720 with 1 Axes>"
      ]
     },
     "metadata": {},
     "output_type": "display_data"
    }
   ],
   "source": [
    "height = 15\n",
    "width = 30\n",
    "map_str = \"\"\"\n",
    ". . . . . . . . . . . . . . . . . . . . . # # . . . . . . .  \n",
    ". . . . . . . . . . . . . . . . . . . . . # # . . . . . . . \n",
    ". . . . . . . . . . . . . . . . . . . . . # # . . . . . . . \n",
    ". . . # # . . . . . . . . . . . . . . . . # # . . . . . . . \n",
    ". . . # # . . . . . . . . # # . . . . . . # # . . . . . . . \n",
    ". . . # # . . . . . . . . # # . . . . . . # # # # # . . . . \n",
    ". . . # # . . . . . . . . # # . . . . . . # # # # # . . . . \n",
    ". . . # # . . . . . . . . # # . . . . . . . . . . . . . . . \n",
    ". . . # # . . . . . . . . # # . . . . . . . . . . . . . . . \n",
    ". . . # # . . . . . . . . # # . . . . . . . . . . . . . . . \n",
    ". . . # # . . . . . . . . # # . . . . . . . . . . . . . . . \n",
    ". . . # # . . . . . . . . # # . . . . . . . . . . . . . . . \n",
    ". . . . . . . . . . . . . # # . . . . . . . . . . . . . . . \n",
    ". . . . . . . . . . . . . # # . . . . . . . . . . . . . . .\n",
    ". . . . . . . . . . . . . # # . . . . . . . . . . . . . . .\n",
    "\"\"\"\n",
    "cells = convert_string_to_cells(map_str)\n",
    "\n",
    "test_map = Map(cells)\n",
    "start = Node(1, 1)\n",
    "goal = Node(13, 28)\n",
    "draw(test_map, start, goal)"
   ]
  },
  {
   "attachments": {},
   "cell_type": "markdown",
   "metadata": {},
   "source": [
    "## Implementing the Search Tree (i.e., OPEN and CLOSED)\n",
    "An efficient implementation of the search tree (`OPEN` and `CLOSED`) is crucial for any search algorithm. You should utilize the efficient search tree implementation you developed in the previous lab."
   ]
  },
  {
   "cell_type": "code",
   "execution_count": 332,
   "metadata": {},
   "outputs": [],
   "source": [
    "class SearchTreePQD:\n",
    "    \"\"\"\n",
    "    SearchTree using a priority queue for OPEN and a dictionary for CLOSED.\n",
    "    \"\"\"\n",
    "\n",
    "    def __init__(self):\n",
    "        self._open = []  # Priority queue for nodes in OPEN\n",
    "        self._closed = {}  # Dictionary for nodes in CLOSED (expanded nodes)\n",
    "        self._enc_open_duplicates = 0  # Number of dublicates encountered in OPEN\n",
    "\n",
    "    def __len__(self) -> int:\n",
    "        \"\"\"\n",
    "        Returns the size of the search tree. Useful for assessing the memory\n",
    "        footprint of the algorithm, especially at the final iteration.\n",
    "        \"\"\"\n",
    "        return len(self._open) + len(self._closed)\n",
    "\n",
    "    def open_is_empty(self) -> bool:\n",
    "        \"\"\"\n",
    "        Checks if OPEN is empty.\n",
    "        If true, the main search loop should be interrupted.\n",
    "        \"\"\"\n",
    "        return not self._open\n",
    "\n",
    "    def add_to_open(self, item: Node):\n",
    "        \"\"\"\n",
    "        Adds a node to the search tree, specifically to OPEN. This node is either\n",
    "        entirely new or a duplicate of an existing node in OPEN.\n",
    "        This implementation detects duplicates lazily; thus, nodes are added to\n",
    "        OPEN without initial duplicate checks.\n",
    "        \"\"\"\n",
    "        heappush(self._open, item)\n",
    "\n",
    "    def get_best_node_from_open(self) -> Optional[Node]:\n",
    "        \"\"\"\n",
    "        Retrieves the best node from OPEN, defined by the minimum key.\n",
    "        This node will then be expanded in the main search loop.\n",
    "\n",
    "        Duplicates are managed here. If a node has been expanded previously\n",
    "        (and is in CLOSED), it's skipped and the next best node is considered.\n",
    "\n",
    "        Returns None if OPEN is empty.\n",
    "        \"\"\"\n",
    "        while self._open:\n",
    "            best_node = heappop(self._open)\n",
    "            if self.was_expanded(best_node):\n",
    "                self._enc_open_duplicates += 1\n",
    "                continue\n",
    "            return best_node\n",
    "        return None\n",
    "\n",
    "    def add_to_closed(self, item: Node):\n",
    "        \"\"\"\n",
    "        Adds a node to the CLOSED dictionary.\n",
    "        \"\"\"\n",
    "        self._closed[item] = item\n",
    "\n",
    "    def was_expanded(self, item: Node) -> bool:\n",
    "        \"\"\"\n",
    "        Checks if a node has been previously expanded.\n",
    "        \"\"\"\n",
    "        return item in self._closed\n",
    "\n",
    "    @property\n",
    "    def opened(self):\n",
    "        return self._open\n",
    "\n",
    "    @property\n",
    "    def expanded(self):\n",
    "        return self._closed.values()\n",
    "\n",
    "    @property\n",
    "    def number_of_open_dublicates(self):\n",
    "        return self._enc_open_duplicates"
   ]
  },
  {
   "attachments": {},
   "cell_type": "markdown",
   "metadata": {},
   "source": [
    "## Validating the Results"
   ]
  },
  {
   "attachments": {},
   "cell_type": "markdown",
   "metadata": {},
   "source": [
    "When you finish implementing search algorithms, you'll naturally want to test them. The following functions will help you in doing just that.\n",
    "\n",
    "`simple_test` runs the pathfinding algorithm on a single, straightforward instance, while `massive_test` executes it on a series of more involved instances. Both tests operate under the assumption that the search function follows the pattern below:\n",
    "\n",
    "```\n",
    "search(task_map, start.i, start.j, goal.i, goal.j, *optional arguments*) -> (path_found, last_state, steps, search_tree_size, open, closed)\n",
    "```\n",
    "\n",
    "These automated tests anticipate that the search function, which is passed as an input, adheres to the following structure:\n",
    "\n",
    "- `task_map` is the grid\n",
    "- `start.i, start.j` are the  $(i, j)$ coordinates of the starting cell\n",
    "- `goal.i, goal.j` are the $(i, j)$ coordinates of the goal cell\n",
    "- `*optional arguments*` represent additional parameters of the search function, passed with *args. For instance, the heuristic function.\n",
    "- `path_found` is `True` if a path was found and `False` otherwise\n",
    "- `last_state` denotes the last state of the path. It returns `None` if a path was not found\n",
    "- `steps` provides the number of search steps taken\n",
    "- `search_tree_size` represents the number of nodes that make up the search tree at the final iteration of the algorithm, which equates to the size of the resultant search tree.\n",
    "- `open` is an iterable collection of the nodes that form the search frontier (OPEN nodes)\n",
    "- `closed` is an iterable collection of the expanded nodes (CLOSED)\n"
   ]
  },
  {
   "cell_type": "code",
   "execution_count": 333,
   "metadata": {},
   "outputs": [],
   "source": [
    "from tests.lab_test import simple_test, simple_test_not_found, massive_test"
   ]
  },
  {
   "attachments": {},
   "cell_type": "markdown",
   "metadata": {},
   "source": [
    "## A* Algorithm Without Reexpansions"
   ]
  },
  {
   "attachments": {},
   "cell_type": "markdown",
   "metadata": {},
   "source": [
    "The primary component of the `A*` algorithm is the heuristic function.\n",
    "\n",
    "Ideally, this function should be admissible (it never overestimates the true cost to the goal) and consistent (satisfies the triangle inequality). The Manhattan distance serves as an admissible and consistent heuristic for 4-connected grids. Therefore, if we integrate it into the `Dijkstra` search loop from the previous lab, we'll obtain the `A*` algorithm.\n",
    "\n",
    "Let's proceed!\n"
   ]
  },
  {
   "cell_type": "code",
   "execution_count": 334,
   "metadata": {},
   "outputs": [],
   "source": [
    "def manhattan_distance(i1: int, j1: int, i2: int, j2: int) -> int:\n",
    "    \"\"\"\n",
    "    Computes the Manhattan distance between two cells on a grid.\n",
    "\n",
    "    Parameters\n",
    "    ----------\n",
    "    i1, j1 : int\n",
    "        (i, j) coordinates of the first cell on the grid.\n",
    "    i2, j2 : int\n",
    "        (i, j) coordinates of the second cell on the grid.\n",
    "\n",
    "    Returns\n",
    "    -------\n",
    "    int\n",
    "        Manhattan distance between the two cells.\n",
    "    \"\"\"\n",
    "    return abs(i1 - i2) + abs(j1 - j2)"
   ]
  },
  {
   "attachments": {},
   "cell_type": "markdown",
   "metadata": {},
   "source": [
    "The input for the `A*` algorithm implementation is the same as for `Dijkstra`:\n",
    "\n",
    "The input is:\n",
    "- map representation\n",
    "- start/goal cells\n",
    "- heuristic function $^*$\n",
    "- a reference to the implementation of the SearchTree\n",
    "\n",
    "The output is:\n",
    "- path found flag (`true` or `false`)\n",
    "- last node of the path (so one can unwind it using the parent-pointers and get the full path)\n",
    "- the number of steps (iterations of the main loop)\n",
    "- the number of nodes that compose the search tree at the final iteration of the algorithm (=the size of the resultant search tree)\n",
    "- OPEN and CLOSED (as iterable collections of nodes) for further visualization purposes\n",
    "\n",
    "\n",
    "PS: You might also want to display, at the final iteration, the number of OPEN duplicates encountered during the search, as shown below:\n",
    "\n",
    "```print(\"During the search, the following number of OPEN dublicates was encountered: \", ast.number_of_open_duplicates) ```\n"
   ]
  },
  {
   "cell_type": "code",
   "execution_count": 335,
   "metadata": {},
   "outputs": [],
   "source": [
    "def astar(\n",
    "    task_map: Map,\n",
    "    start_i: int,\n",
    "    start_j: int,\n",
    "    goal_i: int,\n",
    "    goal_j: int,\n",
    "    heuristic_func: Callable,\n",
    "    search_tree: Type[SearchTreePQD],\n",
    ") -> Tuple[bool, Optional[Node], int, int, Optional[Iterable[Node]], Optional[Iterable[Node]]]:\n",
    "    \"\"\"\n",
    "    Implements the A* search algorithm.\n",
    "\n",
    "    Parameters\n",
    "    ----------\n",
    "    task_map : Map\n",
    "        The grid or map being searched.\n",
    "    start_i, start_j : int, int\n",
    "        Starting coordinates.\n",
    "    goal_i, goal_j : int, int\n",
    "        Goal coordinates.\n",
    "    heuristic_func : Callable\n",
    "        Heuristic function for estimating the distance from a node to the goal.\n",
    "    search_tree : Type[SearchTreePQD]\n",
    "        The search tree to use.\n",
    "\n",
    "    Returns\n",
    "    -------\n",
    "    Tuple[bool, Optional[Node], int, int, Optional[Iterable[Node]], Optional[Iterable[Node]]]\n",
    "        Tuple containing:\n",
    "        - A boolean indicating if a path was found.\n",
    "        - The last node in the found path or None.\n",
    "        - Number of algorithm iterations.\n",
    "        - Size of the resultant search tree.\n",
    "        - OPEN set nodes for visualization or None.\n",
    "        - CLOSED set nodes.\n",
    "    \"\"\"\n",
    "    def get_successors(node: Node) -> List[Node]:\n",
    "        successors = []\n",
    "        row, col = node.i, node.j\n",
    "        for new_row, new_col in task_map.get_neighbors(node.i, node.j):\n",
    "            additional_cost = compute_cost(row, col, new_row, new_col)\n",
    "            h_ = heuristic_func(new_row, new_col, goal_i, goal_j)\n",
    "            successors.append(Node(new_row, new_col, node.g + additional_cost, h=h_, parent=node))\n",
    "        return successors\n",
    "\n",
    "    ast = search_tree()\n",
    "    steps = 0\n",
    "\n",
    "    h_start = heuristic_func(start_i, start_j, goal_i, goal_j)\n",
    "    start_node = Node(start_i, start_j, g=0, h=h_start)\n",
    "    goal_node = Node(goal_i, goal_j, h=0)\n",
    "    ast.add_to_open(start_node)\n",
    "\n",
    "    while not ast.open_is_empty():\n",
    "        best_node = ast.get_best_node_from_open()\n",
    "        if best_node is None:\n",
    "            break\n",
    "        if best_node == goal_node:\n",
    "            return True, best_node, steps, len(ast), ast.opened, ast.expanded\n",
    "        ast.add_to_closed(best_node)\n",
    "        for successor in get_successors(best_node):\n",
    "            if not ast.was_expanded(successor):\n",
    "                ast.add_to_open(successor)\n",
    "        steps += 1\n",
    "        \n",
    "    return False, None, steps, len(ast), None, ast.expanded"
   ]
  },
  {
   "cell_type": "code",
   "execution_count": 336,
   "metadata": {},
   "outputs": [
    {
     "data": {
      "image/png": "[encoded data removed]",
      "text/plain": [
       "<Figure size 960x720 with 1 Axes>"
      ]
     },
     "metadata": {},
     "output_type": "display_data"
    },
    {
     "name": "stdout",
     "output_type": "stream",
     "text": [
      "Path found! Length: 30. Search tree size: 227. Number of steps: 133. Correct: True\n",
      "CPU times: total: 46.9 ms\n",
      "Wall time: 48.2 ms\n"
     ]
    }
   ],
   "source": [
    "\"\"\"\n",
    "The code should execute correctly if your A* implementation is accurate.\n",
    "Experiment with the test instance number (the 2nd argument) to execute the search algorithm on various start/goal pairs.\n",
    "\"\"\"\n",
    "%time res = simple_test(astar, 1, manhattan_distance, SearchTreePQD)"
   ]
  },
  {
   "cell_type": "code",
   "execution_count": 337,
   "metadata": {},
   "outputs": [
    {
     "data": {
      "image/png": "[encoded data removed]",
      "text/plain": [
       "<Figure size 960x720 with 1 Axes>"
      ]
     },
     "metadata": {},
     "output_type": "display_data"
    },
    {
     "name": "stdout",
     "output_type": "stream",
     "text": [
      "Path not found! Search tree size: 265. Number of steps: 265. Correct: True\n",
      "CPU times: total: 46.9 ms\n",
      "Wall time: 41.2 ms\n"
     ]
    }
   ],
   "source": [
    "\"\"\"\n",
    "The code will execute correctly if the A* implementation properly handles cases where a path doesn't exist.\n",
    "\"\"\"\n",
    "%time res = simple_test_not_found(astar, 1, manhattan_distance, SearchTreePQD)"
   ]
  },
  {
   "cell_type": "code",
   "execution_count": 338,
   "metadata": {
    "scrolled": true
   },
   "outputs": [
    {
     "name": "stdout",
     "output_type": "stream",
     "text": [
      "Task: #0. Path found! Length: 64. Search tree size: 807. Number of steps: 440. Correct: True\n",
      "Task: #1. Path found! Length: 197. Search tree size: 3770. Number of steps: 3531. Correct: True\n",
      "Task: #2. Path found! Length: 462. Search tree size: 26537. Number of steps: 17343. Correct: True\n",
      "Task: #3. Path found! Length: 498. Search tree size: 27883. Number of steps: 27370. Correct: True\n",
      "Task: #4. Path found! Length: 479. Search tree size: 24927. Number of steps: 23722. Correct: True\n",
      "Task: #5. Path found! Length: 402. Search tree size: 11547. Number of steps: 7322. Correct: True\n",
      "Task: #6. Path found! Length: 721. Search tree size: 75945. Number of steps: 75032. Correct: True\n",
      "Task: #7. Path found! Length: 678. Search tree size: 51387. Number of steps: 49767. Correct: True\n",
      "Task: #8. Path found! Length: 683. Search tree size: 47136. Number of steps: 28726. Correct: True\n",
      "CPU times: total: 3.11 s\n",
      "Wall time: 3.26 s\n"
     ]
    }
   ],
   "source": [
    "\"\"\"\n",
    "Test the efficient implementation of A* on the complete set of large instances (9 in total). \n",
    "Every test should execute correctly.\n",
    "\n",
    "On my modern laptop (2022 Asus, Intel iCore7, 16Gb RAM, SSD) the entire test finishes \n",
    "in about 3 seconds, which is about half the time taken by Dijkstra's algorithm in the previous lab.\n",
    "\"\"\"\n",
    "\n",
    "%time res = a_star_stat = massive_test(astar, \"data/\", 9, manhattan_distance, SearchTreePQD)"
   ]
  },
  {
   "attachments": {},
   "cell_type": "markdown",
   "metadata": {},
   "source": [
    "## Inconsistent Heuristic Function"
   ]
  },
  {
   "attachments": {},
   "cell_type": "markdown",
   "metadata": {},
   "source": [
    "Using an admissible but inconsistent heuristic can lead to incorrect behavior if you don't implement re-opening or re-expansion in `A*` (as we've done up to this point). Let's observe this.\n"
   ]
  },
  {
   "cell_type": "code",
   "execution_count": 339,
   "metadata": {},
   "outputs": [],
   "source": [
    "def inconsistent_heuristic(i1: int, j1: int, i2: int, j2: int) -> Union[int, float]:\n",
    "    \"\"\"\n",
    "    An inconsistent heuristic function tailored for the simple_test map.\n",
    "    This heuristic is based on the Manhattan distance scaled by a coefficient\n",
    "    ranging between 0 and 1. Although this range ensures the function doesn't\n",
    "    overestimate the actual distance between cells, it introduces inconsistency.\n",
    "\n",
    "    Parameters\n",
    "    ----------\n",
    "    i1, j1 : int, int\n",
    "        Coordinates (i, j) of the first cell on the grid.\n",
    "    i2, j2 : int, int\n",
    "        Coordinates (i, j) of the second cell on the grid.\n",
    "\n",
    "    Returns\n",
    "    -------\n",
    "    int | float\n",
    "        Scaled Manhattan distance between the two cells.\n",
    "    \"\"\"\n",
    "    coef = [[0.32831655869667997, 0.02602781916714625, 0.32602955554375024, 0.06234916377268629, 0.35295444407424986, 0.4399763742097014, 0.46962919934270825, 0.16144646916333383, 0.04178119522641788, 0.3615984917894237, 0.1663930560924083, 0.1556095515496247, 0.023184930929364966, 0.2417350062696204, 0.14690725879414124, 0.020766506492569392, 0.006869319632844428, 0.3824707325836774, 0.3912138018969597, 0.201089314826286, 0.2884529835910057, 0.4795063591225301, 0.10333745819385776, 0.33834740384881046, 0.08447318037398205, 0.010754818060922267, 0.23611557024543672, 0.3629237250718168, 0.3678390854556626, 0.0006988268075135973], [0.17081730580243898, 0.42815946938275257, 0.024739567784460792, 0.2384247988728579, 0.4480895478056663, 0.43049105235702034, 0.3649923418701008, 0.08565497107344322, 0.4069843090234916, 0.32498662639563125, 0.2826508716412064, 0.1973909468425717, 0.4125632682759354, 0.29608357889521686, 0.04662324665294576, 0.32915442809479756, 0.08864327609387218, 0.4643067499890007, 0.3963962928888365, 0.0402016795594885, 0.2954060455404461, 0.38728059734093084, 0.19527308273361277, 0.3170835313741325, 0.3294472639012368, 0.302480192507245, 0.23827669438631033, 0.11079177021531394, 0.43438329910834717, 0.1465810756285223], [0.27794966579449815, 0.4958689976703051, 0.2367219131177683, 0.11742295670949221, 0.36177711351980735, 0.20951533058916783, 0.3063171220477524, 0.2728786620098217, 0.2959417227081334, 0.4209509633145379, 0.32077674238174947, 0.3532802742140129, 0.10159841447119167, 0.2625386536587789, 0.23272086429640437, 0.4119533662959103, 0.46798257469700083, 0.43826446882497194, 0.19412482734352465, 0.41570757993008334, 0.09194411485967935, 0.3374939455246143, 0.48950601103738256, 0.045810930194507216, 0.4681125020725993, 0.44697056880494346, 0.2974354458736584, 0.09661345183840903, 0.10179352117821233, 0.4984785204236554], [0.31651770176123994, 0.1993533617539145, 0.05498519883408326, 0.407507877609872, 0.20989800681581555, 0.23189729215295218, 0.47632912929283583, 0.44082813541052335, 0.37641111507987496, 0.3705325659565917, 0.27114709146390303, 0.2749722526417302, 0.17510400455600839, 0.24928453580259324, 0.26706843358187277, 0.20003119594515434, 0.48517351349738025, 0.358737443887516, 0.014499586935358744, 0.3695458096843226, 0.4139350643060239, 0.2637524793563651, 0.4333072493320588, 0.3866231497861453, 0.11568118966984908, 0.3866545361237745, 0.37255358968718705, 0.4536093231053632, 0.028298598616680992, 0.3843631281995794], [0.022936654540356094, 0.25692869680419306, 0.19114439827311597, 0.003914578307714578, 0.39772983606753926, 0.48127846041963485, 0.15484631395861503, 0.17908081898759592, 0.3090343519006113, 0.10462195950165115, 0.25317932866238774, 0.2009237282348788, 0.09359760036914322, 0.40364807856529455, 0.055891331785010545, 0.16337863324659613, 0.2691732384510364, 0.07486676107970769, 0.2314626630913364, 0.12306319045683534, 0.11356274675838057, 0.4599953194126375, 0.47460828131193905, 0.005834864826164188, 0.23612309430392764, 0.24485991819861713, 0.3434512516138732, 0.0016997052470916763, 0.4652005711931813, 0.10897558145101721], [0.4177181343966487, 0.09069818058411377, 0.2583378454221766, 0.2926980136879932, 0.26099645390826415, 0.18663359178918487, 0.16494752746012747, 0.3045066233089356, 0.030327171547539444, 0.24211821728616623, 0.21020550645343966, 0.3254991411698671, 0.04408967134538244, 0.18516527405991012, 0.226869664228824, 0.35029312220233516, 0.48700545978262755, 0.03419912948567566, 0.024283669463694313, 0.47335552232710487, 0.42404061979262847, 0.33043653199901163, 0.2035393825503235, 0.14279930595010976, 0.41988656885759507, 0.41249205988560517, 0.2862977326301444, 0.09366895332179775, 0.45524177915388536, 0.3173102222994394], [0.3479789803766766, 0.12562823926040556, 0.0721693670613146, 0.20546695912853757, 0.307432280661857, 0.15892258220830824, 0.3307928002878911, 0.4282389396286852, 0.31895994328404403, 0.015396070429757436, 0.41000311890122926, 0.21378824993375084, 0.008321262258760398, 0.4013416238710389, 0.11679565203646447, 0.39068214734907575, 0.02756563930087408, 0.0864279961796352, 0.06269745872485477, 0.44744087209088734, 0.08554027053671065, 0.25808842487838324, 0.3792373276058973, 0.26592827742194886, 0.13573466401440826, 0.4221104642788447, 0.06931890321196982, 0.4811769460605059, 0.07160913132384294, 0.2209815674928729], [0.047394725493421, 0.3254532739454676, 0.4889474568782018, 0.4884912459734134, 0.08899137271945917, 0.0775187529515095, 0.036745730507082686, 0.46210733564619816, 0.46448504074512464, 0.27123073573140677, 0.4553565473284872, 0.37035303634205086, 0.4934678606962635, 0.019661386910363066, 0.17099346676189248, 0.4392004470387358, 0.3464041754911792, 0.40975379020666525, 0.0745008466846444, 0.059201027939790096, 0.30856935195187274, 0.10104120745569212, 0.05457760583206317, 0.3965116846153794, 0.05947587542297933, 0.05997362484679519, 0.21266215363724134, 0.3253803194397574, 0.09565183795743193, 0.05053070702793], [0.21016734098859463, 0.20770958451528826, 0.43514843066138503, 0.493903227225951, 0.020299587679046216, 0.24146914435409378, 0.2181407280720607, 0.1917221461239899, 0.25323225857425924, 0.29383437486496217, 0.35093631239493345, 0.2835156184377993, 0.4751285589586037, 0.23135718860454857, 0.2586928662712164, 0.4917910807271294, 0.3090684171944992, 0.17494430818109796, 0.4738467971366116, 0.08512414215995501, 0.18619661062062864, 0.2729604199754482, 0.35435120557703575, 0.4687170432358917, 0.17425219109772355, 0.4900976300080778, 0.3654869212864816, 0.3978177645709182, 0.2469606267617221, 0.4113635391326597], [0.10879653812107859, 0.019051924171881174, 0.4490411295659728, 0.22930862542235292, 0.31589409221182024, 0.41378854623088657, 0.08617406627660168, 0.2311111306629411, 0.24423117853591014, 0.2869298388241789, 0.4317191354714709, 0.2736126381308446, 0.46022089472628896, 0.2494190585465348, 0.09849397773619728, 0.06913500999492472, 0.3596782912177152, 0.19026360674941345, 0.24573026261197273, 0.36073215089833527, 0.39837019412472796, 0.1405534583482997, 0.08646118777746248, 0.2982915595665813, 0.48104105594150925, 0.37028495820559604, 0.47504278803345945, 0.16700521207333174, 0.05608883246036045, 0.029792363470039107], [0.17756305707151576, 0.11475513646845592, 0.39519942743543174, 0.1902655893321798, 0.4368008627636238, 0.13862739387762824, 0.41850368437350116, 0.09433627455920313, 0.4147079864253474, 0.2867863581203806, 0.2954695054707087, 0.43463835694252007, 0.08618570568276746, 0.2704994210141, 0.2753243020137313, 0.14172527691149273, 0.07822665664440709, 0.3048697637652795, 0.2529328439067414, 0.06694729332402671, 0.176109843687895, 0.3285027819218169, 0.2299992234736718, 0.2800219071601187, 0.22086531670542636, 0.08228249877722388, 0.12224416337314531, 0.4002246756955118, 0.3526698417979912, 0.18094692185069727], [0.2733339266953165, 0.1513138499094583, 0.3605935426535892, 0.4165419218635548, 0.23572970191699127, 0.22108122643888417, 0.30603136622225763, 0.335186807265689, 0.13103052616089028, 0.3609628230697468, 0.052624080652366956, 0.00022418423114428654, 0.07430919225929605, 0.026150110335726173, 0.19349967636440196, 0.3457564467122982, 0.09038888520549165, 0.07033342852988639, 0.4738421463135409, 0.014883912133054067, 0.4906740622357381, 0.49393841571991465, 0.031025351927503497, 0.37735305369531796, 0.2863195946289502, 0.34396926440893566, 0.3151267822825058, 0.3241920608719823, 0.10482891267201139, 0.10915507783478012], [0.29325628175304636, 0.0038063614381139144, 0.4517638006983484, 0.25204344074199264, 0.4340269207671054, 0.17489625889236615, 0.13198384606691121, 0.3899342199811331, 0.41965348344131276, 0.23111964057687256, 0.039041474518217156, 0.33734218274581135, 0.0679035197899045, 0.0766273532379173, 0.3741207794790033, 0.36343666188472074, 0.4464764308755204, 0.2230143352673727, 0.4052347683907284, 0.20232866244195097, 0.11819066292441671, 0.15306906210184834, 0.17729300683332777, 0.08963070298349562, 0.1767849710466668, 0.35066662211117217, 0.3153565803745791, 0.08617660530582588, 0.10578467737545005, 0.07324800652845526], [0.38494332904139106, 0.06293079750794023, 0.2803311644701435, 0.08185293710421432, 0.09116076623613562, 0.09952646742533011, 0.4925857459005228, 0.41849306902487043, 0.17483495024870266, 0.4971339410628243, 0.26744656128059857, 0.19370221242846553, 0.1332269202000917, 0.19737294512934378, 0.34951110882341774, 0.3987814031334262, 0.241987366701154, 0.38544177175738176, 0.28493559009259883, 0.4058947762656655, 0.0932803258175216, 0.07593539329034132, 0.28860893928166254, 0.4085248106956298, 0.06341794436935427, 0.01910538982602794, 0.34831554518635405, 0.35088209059992487, 0.32339379690694847, 0.38042653423360107], [0.3226127214903522, 0.047690095045011816, 0.005382135393613763, 0.16119898391926413, 0.25241452201835485, 0.30005931398461727, 0.2610894532617836, 0.15266640868312714, 0.1812641371408778, 0.4412414266771606, 0.32485128377811484, 0.32359938322335646, 0.19880808725725202, 0.4437362395632147, 0.4508787288008596, 0.1678402401597735, 0.24168621925492562, 0.47066415282854696, 0.07327714805180335, 0.21543107878592932, 0.2743692051766267, 0.3289110769746492, 0.16675647477384775, 0.482369047489957, 0.3376178761639095, 0.35979128818261236, 0.4576196947126867, 0.36576916730766745, 0.43335487720771787, 0.035591619926979345]]\n",
    "    return (coef[i1][j1] + coef[i2][j2]) * manhattan_distance(i1, j1, i2, j2)"
   ]
  },
  {
   "cell_type": "code",
   "execution_count": 340,
   "metadata": {},
   "outputs": [
    {
     "data": {
      "image/png": "[encoded data removed]",
      "text/plain": [
       "<Figure size 960x720 with 1 Axes>"
      ]
     },
     "metadata": {},
     "output_type": "display_data"
    },
    {
     "name": "stdout",
     "output_type": "stream",
     "text": [
      "Path found! Length: 38. Search tree size: 307. Number of steps: 238. Correct: False\n"
     ]
    }
   ],
   "source": [
    "\"\"\"\n",
    "Tests ## 0, 4, 8, 12, 14, 17, 18 should return incorrect result\n",
    "\"\"\"\n",
    "res = simple_test(astar, 0, inconsistent_heuristic, SearchTreePQD)"
   ]
  },
  {
   "attachments": {},
   "cell_type": "markdown",
   "metadata": {},
   "source": [
    "## A* Algorithm With Reexpansion"
   ]
  },
  {
   "attachments": {},
   "cell_type": "markdown",
   "metadata": {},
   "source": [
    "Let's enhance our `A*` implementation by adding the ability to re-open and re-expand nodes. After this modification, we'll verify that everything operates correctly.\n"
   ]
  },
  {
   "cell_type": "code",
   "execution_count": 341,
   "metadata": {},
   "outputs": [],
   "source": [
    "class SearchTreePQDReexp:\n",
    "    \"\"\"\n",
    "    Search Tree with re-expansion capability.\n",
    "    Uses a priority queue for OPEN and a dictionary for CLOSED.\n",
    "    \"\"\"\n",
    "\n",
    "    def __init__(self):\n",
    "        self._open = []  # Priority queue for the OPEN nodes\n",
    "\n",
    "        # We use a dictionary for CLOSED as we want to access the g-value of a node.\n",
    "        # A set() doesn't provide this capability.\n",
    "        self._closed = {}  # Dictionary for nodes that have been expanded (CLOSED).\n",
    "        self._reexpanded = set()  # Nodes that were expanded more than once\n",
    "        self._reopened = set()  # Nodes that were moved from CLOSED to OPEN\n",
    "        self._enc_open_duplicates = 0  # Count of duplicates encountered in OPEN\n",
    "        self._number_of_reexpansions = 0  # Count of re-expansions\n",
    "\n",
    "    def __len__(self):\n",
    "        \"\"\"\n",
    "        Returns the size of the search tree. Useful for assessing the memory\n",
    "        footprint of the algorithm, especially at the final iteration.\n",
    "        \"\"\"\n",
    "        return len(self._open) + len(self._closed)\n",
    "\n",
    "    def open_is_empty(self):\n",
    "        \"\"\"\n",
    "        Checks if OPEN is empty.\n",
    "        If true, the main search loop should be interrupted.\n",
    "        \"\"\"\n",
    "        return not self._open\n",
    "\n",
    "    def add_to_open(self, item: Node):\n",
    "        \"\"\"\n",
    "        Adds a node to the search tree (specifically to OPEN). The node can be:\n",
    "        (1) Completely new (never encountered before).\n",
    "        (2) A dublicate of a node that currently resides in OPEN.\n",
    "        (3) A better version (with a lower g-value) of a node that is already in CLOSED.\n",
    "\n",
    "        The handling of the first two cases involves simply adding the node to OPEN.\n",
    "        Dublicates in OPEN will be detected lazily when retrieving the best node from OPEN.\n",
    "\n",
    "        For the third case, the node with the higher g-value is removed from CLOSED\n",
    "        before the new node is added to OPEN. Additionally, for illustrative purposes,\n",
    "        the new node is added to REOPENED to keep track of such nodes.\n",
    "        \"\"\"\n",
    "        if item in self._closed:\n",
    "            if self._closed[item] > item:\n",
    "                del self._closed[item]\n",
    "                self._reopened.add(item)\n",
    "            else:\n",
    "                return\n",
    "\n",
    "        # Here, we ONLY add the node and never check whether a node with the same (i,j) already resides in the priority queue (PQ).\n",
    "        # This approach can lead to occasional dublicates.\n",
    "        # We will check for these dublicates lazily when invoking the get_best_node method.\n",
    "        heappush(self._open, item)\n",
    "\n",
    "    def get_best_node_from_open(self) -> Optional[Node]:\n",
    "        \"\"\"\n",
    "        Retrieves the best node from OPEN, defined by the minimum key.\n",
    "        This node will then be expanded in the main search loop.\n",
    "\n",
    "        Dublicates are managed here. If a node has been expanded previously\n",
    "        (and is in CLOSED), it's skipped and the next best node is considered.\n",
    "\n",
    "        Returns None if OPEN is empty.\n",
    "        \"\"\"\n",
    "\n",
    "        \"\"\"\n",
    "        Extracting the best node (i.e. the one with the minimal key) from OPEN.\n",
    "        This node will be expanded further on in the main loop of the search.\n",
    "        \n",
    "        Here we must take care of the OPEN-dublicates and discard the\n",
    "        node if it resides in CLOSED and take the next node.\n",
    "        And repeat this process until we encouter the node that is not in CLOSED currently.\n",
    "        If no such a node left in OPEN, we return None.\n",
    "        \n",
    "        If a valid node is encountered, we need to check if it resides in REOPENED.\n",
    "        If it does, we add it to REEXPANDED and increment the counter for the re-expanded nodes. \n",
    "        This step is included for illustrative purposes only.\n",
    "        \"\"\"\n",
    "        while self._open:\n",
    "            best_node = heappop(self._open)\n",
    "            if best_node in self._closed:\n",
    "                self._enc_open_duplicates += 1\n",
    "                continue\n",
    "            if best_node in self._reopened:\n",
    "                self._reexpanded.add(best_node)\n",
    "                self._number_of_reexpansions += 1\n",
    "            return best_node\n",
    "        return None\n",
    "\n",
    "    def add_to_closed(self, item: Node):\n",
    "        \"\"\"\n",
    "        Adds a node to the CLOSED dictionary.\n",
    "        \"\"\"\n",
    "        self._closed[item] = item\n",
    "\n",
    "    def was_expanded(self, item: Node) -> bool:\n",
    "        \"\"\"\n",
    "        Checks if a node has been previously expanded.\n",
    "        \"\"\"\n",
    "        return (item in self._closed or item in self._reopened)\n",
    "\n",
    "    @property\n",
    "    def opened(self):\n",
    "        return self._open\n",
    "\n",
    "    @property\n",
    "    def expanded(self):\n",
    "        return self._closed.values()\n",
    "\n",
    "    @property\n",
    "    def number_of_open_dublicates(self):\n",
    "        return self._enc_open_duplicates\n",
    "\n",
    "    @property\n",
    "    def reexpanded(self):\n",
    "        return self._reexpanded\n",
    "\n",
    "    @property\n",
    "    def number_of_reexpansions(self):\n",
    "        return self._number_of_reexpansions"
   ]
  },
  {
   "attachments": {},
   "cell_type": "markdown",
   "metadata": {},
   "source": [
    "The input for the `A*` algorithm with re-expansions implementation is the same as for `Dijkstra`:\n",
    "\n",
    "The input is:\n",
    "- map representation\n",
    "- start/goal cells\n",
    "- heuristic function $^*$\n",
    "- a reference to the implementation of the SearchTree\n",
    "\n",
    "The output is:\n",
    "- path found flag (`true` or `false`)\n",
    "- last node of the path (so one can unwind it using the parent-pointers and get the full path)\n",
    "- the number of steps (iterations of the main loop)\n",
    "- the number of nodes that compose the search tree at the final iteration of the algorithm (=the size of the resultant search tree)\n",
    "- OPEN and CLOSED (as iterable collections of nodes) for further visualization purposes\n",
    "- REEXPANDED (as iterable collections of nodes) for further visualization purposes\n",
    "\n",
    "\n",
    "PS: You might also want to display, at the final iteration, the number of OPEN duplicates encountered during the search, as shown below:\n",
    "\n",
    "```python\n",
    "print(\"During the search, the following number of OPEN dublicates was encountered: \", ast.number_of_open_duplicates) \n",
    "print(\"During the search, the following number of reexpanded nodes was encountered \", ast.number_of_reexpansions)\n",
    "```\n"
   ]
  },
  {
   "cell_type": "code",
   "execution_count": 342,
   "metadata": {},
   "outputs": [],
   "source": [
    "def astar_reexpansion(\n",
    "    task_map: Map,\n",
    "    start_i: int,\n",
    "    start_j: int,\n",
    "    goal_i: int,\n",
    "    goal_j: int,\n",
    "    heuristic_func: Callable,\n",
    "    search_tree: Type[SearchTreePQDReexp],\n",
    ") -> Tuple[\n",
    "    bool,\n",
    "    Optional[Node],\n",
    "    int,\n",
    "    int,\n",
    "    Optional[Iterable[Node]],\n",
    "    Optional[Iterable[Node]],\n",
    "    Optional[Iterable[Node]],\n",
    "]:\n",
    "    \"\"\"\n",
    "    Implementation of A* algorithm with node reexpansion.\n",
    "    \"\"\"    \n",
    "    def get_successors(node: Node) -> List[Node]:\n",
    "        successors = []\n",
    "        row, col = node.i, node.j\n",
    "        for new_row, new_col in task_map.get_neighbors(node.i, node.j):\n",
    "            additional_cost = compute_cost(row, col, new_row, new_col)\n",
    "            h_ = heuristic_func(new_row, new_col, goal_i, goal_j)\n",
    "            successors.append(Node(new_row, new_col, node.g + additional_cost, h=h_, parent=node))\n",
    "        return successors\n",
    "\n",
    "    ast = search_tree()\n",
    "    steps = 0\n",
    "\n",
    "    h_start = heuristic_func(start_i, start_j, goal_i, goal_j)\n",
    "    start_node = Node(start_i, start_j, g=0, h=h_start)\n",
    "    goal_node = Node(goal_i, goal_j, h=0)\n",
    "    ast.add_to_open(start_node)\n",
    "\n",
    "    while not ast.open_is_empty():\n",
    "        best_node = ast.get_best_node_from_open()\n",
    "        if best_node is None:\n",
    "            break\n",
    "        if best_node == goal_node:\n",
    "            return True, best_node, steps, len(ast), ast.opened, ast.expanded, ast.reexpanded\n",
    "        ast.add_to_closed(best_node)\n",
    "        for successor in get_successors(best_node):\n",
    "            ast.add_to_open(successor)\n",
    "        steps += 1\n",
    "        \n",
    "    return False, None, steps, len(ast), ast.opened, ast.expanded, ast.reexpanded"
   ]
  },
  {
   "attachments": {},
   "cell_type": "markdown",
   "metadata": {},
   "source": [
    "## Tests with Inconsistent Heuristic Function"
   ]
  },
  {
   "cell_type": "code",
   "execution_count": 343,
   "metadata": {},
   "outputs": [
    {
     "name": "stdout",
     "output_type": "stream",
     "text": [
      "A* results:\n"
     ]
    },
    {
     "data": {
      "image/png": "[encoded data removed]",
      "text/plain": [
       "<Figure size 960x720 with 1 Axes>"
      ]
     },
     "metadata": {},
     "output_type": "display_data"
    },
    {
     "name": "stdout",
     "output_type": "stream",
     "text": [
      "Path found! Length: 46. Search tree size: 447. Number of steps: 357. Correct: False\n",
      "\n",
      "A* reexp. results:\n"
     ]
    },
    {
     "data": {
      "image/png": "[encoded data removed]",
      "text/plain": [
       "<Figure size 960x720 with 1 Axes>"
      ]
     },
     "metadata": {},
     "output_type": "display_data"
    },
    {
     "name": "stdout",
     "output_type": "stream",
     "text": [
      "Path found! Length: 44. Search tree size: 459. Number of steps: 425. Correct: True\n"
     ]
    }
   ],
   "source": [
    "\"\"\"\n",
    "Let's now try some tests that previously produced incorrect paths.\n",
    "\n",
    "Test numbers: 0, 4, 8, 12, 14, 17, 18.\n",
    "\n",
    "Now, everything should work correctly, and we should be able to see the re-expanded nodes in a shade of red.\n",
    "\"\"\"\n",
    "\n",
    "i = 18\n",
    "print(\"A* results:\")\n",
    "res = simple_test(astar, i, inconsistent_heuristic, SearchTreePQD)\n",
    "\n",
    "print()\n",
    "\n",
    "print(\"A* reexp. results:\")\n",
    "res = simple_test(astar_reexpansion, i, inconsistent_heuristic, SearchTreePQDReexp)"
   ]
  },
  {
   "attachments": {},
   "cell_type": "markdown",
   "metadata": {},
   "source": [
    "## A* and Tie-breakers"
   ]
  },
  {
   "attachments": {},
   "cell_type": "markdown",
   "metadata": {},
   "source": [
    "The influence of tie-breaking criteria can significantly affect the performance of A*.\n",
    "\n",
    "Let's implement two different secondary criteria (when the f-value is the same, we'll consider the g-value) and see which one performs better.\n"
   ]
  },
  {
   "cell_type": "code",
   "execution_count": 344,
   "metadata": {},
   "outputs": [],
   "source": [
    "def lt_g_max(self, other):\n",
    "    if self.f == other.f:\n",
    "        return self.g > other.g\n",
    "    return self.f < other.f\n",
    "    \n",
    "\n",
    "\n",
    "def lt_g_min(self, other):\n",
    "    if self.f == other.f:\n",
    "        return self.g < other.g\n",
    "    return self.f < other.f"
   ]
  },
  {
   "cell_type": "code",
   "execution_count": 345,
   "metadata": {},
   "outputs": [
    {
     "name": "stdout",
     "output_type": "stream",
     "text": [
      "G_MAX (= H-MIN) tie-breaker\n"
     ]
    },
    {
     "data": {
      "image/png": "[encoded data removed]",
      "text/plain": [
       "<Figure size 960x720 with 1 Axes>"
      ]
     },
     "metadata": {},
     "output_type": "display_data"
    },
    {
     "name": "stdout",
     "output_type": "stream",
     "text": [
      "Path found! Length: 30. Search tree size: 78. Number of steps: 30. Correct: True\n",
      "G_MIN (= H-MAX) tie-breaker\n"
     ]
    },
    {
     "data": {
      "image/png": "[encoded data removed]",
      "text/plain": [
       "<Figure size 960x720 with 1 Axes>"
      ]
     },
     "metadata": {},
     "output_type": "display_data"
    },
    {
     "name": "stdout",
     "output_type": "stream",
     "text": [
      "Path found! Length: 30. Search tree size: 190. Number of steps: 151. Correct: True\n"
     ]
    }
   ],
   "source": [
    "i = 1\n",
    "\n",
    "print(\"G_MAX (= H-MIN) tie-breaker\")\n",
    "Node.__lt__ = lt_g_max\n",
    "res1 = simple_test(astar, i, manhattan_distance, SearchTreePQD)\n",
    "\n",
    "print(\"G_MIN (= H-MAX) tie-breaker\")\n",
    "Node.__lt__ = lt_g_min\n",
    "res2 = simple_test(astar, i, manhattan_distance, SearchTreePQD)"
   ]
  },
  {
   "attachments": {},
   "cell_type": "markdown",
   "metadata": {},
   "source": [
    "## Run Massive Tests\n",
    "\n",
    "<center><img src=\"./img/2.png\"/></center>"
   ]
  },
  {
   "cell_type": "code",
   "execution_count": 346,
   "metadata": {},
   "outputs": [
    {
     "name": "stdout",
     "output_type": "stream",
     "text": [
      "Task: #0. Path found! Length: 64. Search tree size: 178. Number of steps: 64. Correct: True\n",
      "Task: #1. Path found! Length: 197. Search tree size: 3551. Number of steps: 3340. Correct: True\n",
      "Task: #2. Path found! Length: 462. Search tree size: 4569. Number of steps: 2163. Correct: True\n",
      "Task: #3. Path found! Length: 498. Search tree size: 27629. Number of steps: 27046. Correct: True\n",
      "Task: #4. Path found! Length: 479. Search tree size: 25036. Number of steps: 23454. Correct: True\n",
      "Task: #5. Path found! Length: 402. Search tree size: 5497. Number of steps: 3061. Correct: True\n",
      "Task: #6. Path found! Length: 721. Search tree size: 75501. Number of steps: 74524. Correct: True\n",
      "Task: #7. Path found! Length: 678. Search tree size: 50839. Number of steps: 48861. Correct: True\n",
      "Task: #8. Path found! Length: 683. Search tree size: 56273. Number of steps: 28091. Correct: True\n",
      "CPU times: total: 3.19 s\n",
      "Wall time: 3.6 s\n"
     ]
    }
   ],
   "source": [
    "Node.__lt__ = lt_g_max\n",
    "%time g_max_results = massive_test(astar, \"data/\", 9, manhattan_distance, SearchTreePQD)"
   ]
  },
  {
   "cell_type": "code",
   "execution_count": 347,
   "metadata": {},
   "outputs": [
    {
     "name": "stdout",
     "output_type": "stream",
     "text": [
      "Task: #0. Path found! Length: 64. Search tree size: 1137. Number of steps: 1016. Correct: True\n",
      "Task: #1. Path found! Length: 197. Search tree size: 3894. Number of steps: 3733. Correct: True\n",
      "Task: #2. Path found! Length: 462. Search tree size: 22144. Number of steps: 21281. Correct: True\n",
      "Task: #3. Path found! Length: 498. Search tree size: 27816. Number of steps: 27370. Correct: True\n",
      "Task: #4. Path found! Length: 479. Search tree size: 25038. Number of steps: 24289. Correct: True\n",
      "Task: #5. Path found! Length: 402. Search tree size: 11783. Number of steps: 11281. Correct: True\n",
      "Task: #6. Path found! Length: 721. Search tree size: 75729. Number of steps: 75118. Correct: True\n",
      "Task: #7. Path found! Length: 678. Search tree size: 50765. Number of steps: 49828. Correct: True\n",
      "Task: #8. Path found! Length: 683. Search tree size: 54073. Number of steps: 52823. Correct: True\n",
      "CPU times: total: 3.61 s\n",
      "Wall time: 3.86 s\n"
     ]
    }
   ],
   "source": [
    "Node.__lt__ = lt_g_min\n",
    "%time g_min_results = massive_test(astar, \"data/\", 9, manhattan_distance, SearchTreePQD)"
   ]
  },
  {
   "cell_type": "code",
   "execution_count": 348,
   "metadata": {
    "scrolled": true
   },
   "outputs": [
    {
     "name": "stdout",
     "output_type": "stream",
     "text": [
      "29637.6667, 23400.4444\n",
      "30264.3333, 27674.7778\n"
     ]
    }
   ],
   "source": [
    "g_min_steps = np.array(g_min_results[\"steps\"]).mean()\n",
    "g_max_steps = np.array(g_max_results[\"steps\"]).mean()\n",
    "g_min_st_size = np.array(g_min_results[\"st_size\"]).mean()\n",
    "g_max_st_size = np.array(g_max_results[\"st_size\"]).mean()\n",
    "print(f\"{g_min_steps:.4f}, {g_max_steps:.4f}\")\n",
    "print(f\"{g_min_st_size:.4f}, {g_max_st_size:.4f}\")"
   ]
  },
  {
   "cell_type": "code",
   "execution_count": 349,
   "metadata": {},
   "outputs": [
    {
     "data": {
      "image/png": "[encoded data removed]",
      "text/plain": [
       "<Figure size 1000x1000 with 2 Axes>"
      ]
     },
     "metadata": {},
     "output_type": "display_data"
    }
   ],
   "source": [
    "fig, ax = plt.subplots(2, 1, figsize=(10, 10))\n",
    "ax[0].set_title(\"Average number of steps\")\n",
    "ax[1].set_title(\"Average size of the search tree\")\n",
    "ax[0].bar([\"g-min\", \"g-max\"], [g_min_steps, g_max_steps])\n",
    "ax[1].bar([\"g-min\", \"g-max\"], [g_min_st_size, g_max_st_size]);"
   ]
  },
  {
   "cell_type": "code",
   "execution_count": null,
   "metadata": {},
   "outputs": [],
   "source": []
  }
 ],
 "metadata": {
  "kernelspec": {
   "display_name": "Python 3",
   "language": "python",
   "name": "python3"
  },
  "language_info": {
   "codemirror_mode": {
    "name": "ipython",
    "version": 3
   },
   "file_extension": ".py",
   "mimetype": "text/x-python",
   "name": "python",
   "nbconvert_exporter": "python",
   "pygments_lexer": "ipython3",
   "version": "3.13.7"
  }
 },
 "nbformat": 4,
 "nbformat_minor": 4
}
